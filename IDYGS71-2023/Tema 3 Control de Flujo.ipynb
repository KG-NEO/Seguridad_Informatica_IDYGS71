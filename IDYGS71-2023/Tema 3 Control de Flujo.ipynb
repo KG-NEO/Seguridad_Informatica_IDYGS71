{
 "cells": [
  {
   "cell_type": "markdown",
   "id": "3c2d885e",
   "metadata": {},
   "source": [
    "# Tema 3 Control de Flujo"
   ]
  },
  {
   "cell_type": "code",
   "execution_count": null,
   "id": "1da3364c",
   "metadata": {},
   "outputs": [],
   "source": [
    "# Indentificación\n",
    "\n",
    "# ; No existe en lineas de codigo\n",
    "# {} No existe bloques de codigo\n",
    "# () No existe en funciones \n",
    "\n",
    "# : \n",
    "\n",
    "# indentado - Espacio \\ 4 Espacios obligados"
   ]
  },
  {
   "cell_type": "code",
   "execution_count": null,
   "id": "c1b975bb",
   "metadata": {},
   "outputs": [],
   "source": [
    "if(a<b){\n",
    "    codigo\n",
    "}"
   ]
  },
  {
   "cell_type": "code",
   "execution_count": 3,
   "id": "70f75747",
   "metadata": {},
   "outputs": [
    {
     "name": "stdout",
     "output_type": "stream",
     "text": [
      "hola\n"
     ]
    }
   ],
   "source": [
    "a=1\n",
    "b=5\n",
    "if a<b :\n",
    "    print(\"hola\")\n",
    "else:\n",
    "    print(\"mundo\")"
   ]
  },
  {
   "cell_type": "code",
   "execution_count": 5,
   "id": "d4587cc0",
   "metadata": {},
   "outputs": [
    {
     "name": "stdout",
     "output_type": "stream",
     "text": [
      "Ingrese la contraseña: miClaveSegura\n",
      "Tu contraseña es suficientemente larga.\n",
      "Además es la contraseña correcta.\n"
     ]
    }
   ],
   "source": [
    "password = input(\"Ingrese la contraseña: \")\n",
    "\n",
    "if (len(password) >= 8):\n",
    "    print('Tu contraseña es suficientemente larga.')\n",
    "\n",
    "    if password == 'miClaveSegura':\n",
    "        print(\"Además es la contraseña correcta.\")\n",
    "    else:\n",
    "        print(\"Pero es incorrecta.\")\n",
    "else:\n",
    "    print('Tu contraseña es muy corta e insegura.')\n",
    "\n",
    "    if password != 'miClaveSegura':\n",
    "        print(\"Además, es incorrecta (por supuesto).\")"
   ]
  },
  {
   "cell_type": "markdown",
   "id": "781eeb3e",
   "metadata": {},
   "source": [
    "# FOR"
   ]
  },
  {
   "cell_type": "code",
   "execution_count": null,
   "id": "6879114a",
   "metadata": {},
   "outputs": [],
   "source": [
    "for(i=0;i<=10;i++){\n",
    "    pint(colores[i])\n",
    "    codigo #interación\n",
    "}"
   ]
  },
  {
   "cell_type": "code",
   "execution_count": 6,
   "id": "5813e43f",
   "metadata": {},
   "outputs": [
    {
     "name": "stdout",
     "output_type": "stream",
     "text": [
      "Blanco\n",
      "Verde\n",
      "Rojo\n"
     ]
    }
   ],
   "source": [
    "colores = [\"Blanco\",\"Verde\",\"Rojo\"]\n",
    "\n",
    "for color in colores:\n",
    "    print(color)"
   ]
  },
  {
   "cell_type": "code",
   "execution_count": 12,
   "id": "16f30059",
   "metadata": {},
   "outputs": [
    {
     "data": {
      "text/plain": [
       "'Azul'"
      ]
     },
     "execution_count": 12,
     "metadata": {},
     "output_type": "execute_result"
    }
   ],
   "source": [
    "colores = [\"Blanco\",\"Azul\",\"Rojo\"]\n",
    "    color = iter(colores)\n",
    "    \n",
    "next(color)\n",
    "next(color)"
   ]
  },
  {
   "cell_type": "code",
   "execution_count": 13,
   "id": "ab8084bc",
   "metadata": {},
   "outputs": [
    {
     "name": "stdout",
     "output_type": "stream",
     "text": [
      "A\n",
      "E\n",
      "I\n",
      "O\n",
      "4\n",
      "3\n",
      "2\n",
      "0\n",
      "A : 4\n",
      "E : 3\n",
      "I : 2\n",
      "O : 0\n"
     ]
    }
   ],
   "source": [
    "valores = {'A': 4, 'E' :3, 'I' : 2, 'O' : 0}\n",
    "for k in valores:\n",
    "    print(k)\n",
    "\n",
    "for v in valores.values():\n",
    "    print(v)\n",
    "    \n",
    "for k,v in valores.items():\n",
    "    print(k, \":\",v)"
   ]
  },
  {
   "cell_type": "code",
   "execution_count": 14,
   "id": "f7f61dc2",
   "metadata": {},
   "outputs": [
    {
     "name": "stdout",
     "output_type": "stream",
     "text": [
      "0\n",
      "1\n",
      "2\n",
      "3\n",
      "4\n",
      "5\n",
      "6\n",
      "7\n",
      "8\n",
      "9\n",
      "10\n"
     ]
    }
   ],
   "source": [
    "for i in range(11):\n",
    "    print(i)"
   ]
  },
  {
   "cell_type": "code",
   "execution_count": 15,
   "id": "0c3fb824",
   "metadata": {},
   "outputs": [
    {
     "name": "stdout",
     "output_type": "stream",
     "text": [
      "2\n",
      "3\n",
      "4\n",
      "5\n",
      "6\n",
      "7\n",
      "8\n",
      "9\n",
      "10\n"
     ]
    }
   ],
   "source": [
    "for i in range(2,11):\n",
    "    print(i)"
   ]
  },
  {
   "cell_type": "code",
   "execution_count": 16,
   "id": "9917dd25",
   "metadata": {
    "scrolled": true
   },
   "outputs": [
    {
     "name": "stdout",
     "output_type": "stream",
     "text": [
      "2\n",
      "4\n",
      "6\n",
      "8\n",
      "10\n"
     ]
    }
   ],
   "source": [
    "for i in range(2,11,2):\n",
    "    print(i)"
   ]
  },
  {
   "cell_type": "code",
   "execution_count": 18,
   "id": "62c07346",
   "metadata": {},
   "outputs": [
    {
     "ename": "NameError",
     "evalue": "name 'numeros' is not defined",
     "output_type": "error",
     "traceback": [
      "\u001b[0;31m---------------------------------------------------------------------------\u001b[0m",
      "\u001b[0;31mNameError\u001b[0m                                 Traceback (most recent call last)",
      "Cell \u001b[0;32mIn[18], line 3\u001b[0m\n\u001b[1;32m      1\u001b[0m coleccion \u001b[38;5;241m=\u001b[39m [\u001b[38;5;241m2\u001b[39m, \u001b[38;5;241m4\u001b[39m, \u001b[38;5;241m5\u001b[39m, \u001b[38;5;241m7\u001b[39m, \u001b[38;5;241m8\u001b[39m, \u001b[38;5;241m9\u001b[39m, \u001b[38;5;241m3\u001b[39m, \u001b[38;5;241m4\u001b[39m]\n\u001b[0;32m----> 3\u001b[0m \u001b[38;5;28;01mfor\u001b[39;00m n \u001b[38;5;129;01min\u001b[39;00m numeros:\n\u001b[1;32m      4\u001b[0m         \u001b[38;5;28;01mif\u001b[39;00m n \u001b[38;5;241m==\u001b[39m \u001b[38;5;241m3\u001b[39m:\n\u001b[1;32m      5\u001b[0m             \u001b[38;5;28;01mbreak\u001b[39;00m\n",
      "\u001b[0;31mNameError\u001b[0m: name 'numeros' is not defined"
     ]
    }
   ],
   "source": [
    "coleccion = [2, 4, 5, 7, 8, 9, 3, 4]\n",
    "\n",
    "for n in numeros:\n",
    "        if n == 3:\n",
    "            break\n",
    "else:\n",
    "    print(\"No se encontro el número 3\")"
   ]
  },
  {
   "cell_type": "code",
   "execution_count": 7,
   "id": "8a8b8d54",
   "metadata": {},
   "outputs": [
    {
     "name": "stdout",
     "output_type": "stream",
     "text": [
      "ingresa el inicio: 0\n",
      "ingresa el final: 0\n"
     ]
    }
   ],
   "source": [
    "inicio = int(input(\"ingresa el inicio: \"))\n",
    "final = int(input(\"ingresa el final: \"))\n",
    "\n",
    "for i in range(inicio,final):\n",
    "    print(i)\n"
   ]
  },
  {
   "cell_type": "raw",
   "id": "350efda5",
   "metadata": {},
   "source": [
    "# TABLA DE MULTIPLICAR INFINITA\n",
    "\n",
    "# INICIO_RANGO = 1\n",
    "# FINAL_RANGO = 3\n",
    "# INICIO_TABLA = 5\n",
    "# FINAL_TABLA = 7\n",
    "\n",
    "1 X 5 = 5\n",
    "1 X 6 = 6\n",
    "1 X 7 = 7\n",
    "\n",
    "2 X 5 = 10\n",
    "2 X 6 = 12\n",
    "2 X 7 = 14\n",
    "\n",
    "3 X 5 = 15\n",
    "3 X 6 = 18\n",
    "3 X 7 = 21"
   ]
  },
  {
   "cell_type": "code",
   "execution_count": 13,
   "id": "8568ce4b",
   "metadata": {},
   "outputs": [
    {
     "name": "stdout",
     "output_type": "stream",
     "text": [
      "Cual es el rango de inicio: 0\n",
      "Cual es el final del rango: 0\n",
      "Cual es el inicio de la tabla: 0\n",
      "Cual es la tabla final: 0\n"
     ]
    }
   ],
   "source": [
    "in_rango = int(input(\"Cual es el rango de inicio: \"))\n",
    "fin_rango = int(input(\"Cual es el final del rango: \"))\n",
    "tabla = int(input(\"Cual es el inicio de la tabla: \"))\n",
    "final_tabla = int(input(\"Cual es la tabla final: \"))\n",
    "\n",
    "for i in range(tabla,final_tabla):\n",
    "    print(i)\n",
    "    for i2 in range(in_rango,fin_rango)\n",
    "        print()\n"
   ]
  },
  {
   "cell_type": "code",
   "execution_count": 29,
   "id": "665f176e",
   "metadata": {},
   "outputs": [
    {
     "name": "stdout",
     "output_type": "stream",
     "text": [
      "Cual es el inicio de la tabla: 2\n",
      "Cual es la tabla final: 4\n",
      "Cual es el rango de inicio: 1\n",
      "Cual es el final del rango: 4\n",
      "\n",
      "Tabla del multiplicar del 2:\n",
      "2 x 1 = 2\n",
      "2 x 2 = 4\n",
      "2 x 3 = 6\n",
      "2 x 4 = 8\n",
      "\n",
      "Tabla del multiplicar del 3:\n",
      "3 x 1 = 3\n",
      "3 x 2 = 6\n",
      "3 x 3 = 9\n",
      "3 x 4 = 12\n",
      "\n",
      "Tabla del multiplicar del 4:\n",
      "4 x 1 = 4\n",
      "4 x 2 = 8\n",
      "4 x 3 = 12\n",
      "4 x 4 = 16\n",
      "\n"
     ]
    }
   ],
   "source": [
    "tabla = int(input(\"Inicio de Tabla de multiplicar: \"))\n",
    "tablaf = int(input(\"Fin de tabla de multiplicar: \"))\n",
    "rango = int(input(\"Cual es el rango de inicio: \"))\n",
    "rangof = int(input(\"Cual es el final del rango: \"))\n",
    "nada = input(\"\")\n",
    "\n",
    "for factor1 in range(tabla, tablaf + 1): \n",
    "    print(f'Tabla del multiplicar del {factor1}:')\n",
    "    for factor2 in range(rango, rangof + 1):\n",
    "        print(f'{factor1} x {factor2} = {factor1 * factor2}')\n",
    "    print()"
   ]
  },
  {
   "cell_type": "code",
   "execution_count": 3,
   "id": "93ae59a0",
   "metadata": {},
   "outputs": [
    {
     "name": "stdout",
     "output_type": "stream",
     "text": [
      "Inicio de Tabla de multiplicar: 0\n",
      "Fin de tabla de multiplicar: 0\n",
      "Cual es el rango de inicio: 0\n",
      "Cual es el final del rango: 0\n",
      "\n",
      "Tabla del multiplicar del 0:\n",
      "0 x 0 = 0\n",
      "\n"
     ]
    }
   ],
   "source": [
    "tabla = int(input(\"Inicio de Tabla de multiplicar: \"))\n",
    "tablaf = int(input(\"Fin de tabla de multiplicar: \"))\n",
    "rango = int(input(\"Cual es el rango de inicio: \"))\n",
    "rangof = int(input(\"Cual es el final del rango: \"))\n",
    "nada = input(\"\")\n",
    "\n",
    "for M in range(tabla, tablaf + 1): \n",
    "    print(f'Tabla del multiplicar del {M}:')\n",
    "    for R in range(rango, rangof + 1):\n",
    "        print(f'{M} x {R} = {M * R}')\n",
    "    print()"
   ]
  },
  {
   "cell_type": "code",
   "execution_count": null,
   "id": "0d3afe7d",
   "metadata": {},
   "outputs": [],
   "source": [
    "n1 = int(input(\"Primer numero de la suma: \"))\n",
    "n2 = int(input(\"Segundo numero de la suma: \"))\n",
    "x = n1 + n2\n",
    "print (\"La suma de los dos números es: \",x)"
   ]
  }
 ],
 "metadata": {
  "kernelspec": {
   "display_name": "Python 3 (ipykernel)",
   "language": "python",
   "name": "python3"
  },
  "language_info": {
   "codemirror_mode": {
    "name": "ipython",
    "version": 3
   },
   "file_extension": ".py",
   "mimetype": "text/x-python",
   "name": "python",
   "nbconvert_exporter": "python",
   "pygments_lexer": "ipython3",
   "version": "3.11.4"
  }
 },
 "nbformat": 4,
 "nbformat_minor": 5
}
