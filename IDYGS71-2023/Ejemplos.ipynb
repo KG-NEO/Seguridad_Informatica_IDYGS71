{
 "cells": [
  {
   "cell_type": "code",
   "execution_count": 1,
   "id": "8ccc99ff",
   "metadata": {},
   "outputs": [
    {
     "name": "stdout",
     "output_type": "stream",
     "text": [
      "Mi nombre es: julio\n",
      "Mi apellido es paterno: flores\n",
      "Mi apellido es materno: alamilla\n",
      "Tengo la edad de : 26\n",
      "Mi altura es de : 1.675\n",
      " y, ¿Soy estudiante?: no\n",
      "Hola me llamo julio!, Mis apellidos son flores alamilla, mi edad es de 26 años, mi altura es de 1.675 y ¿Soy estudiante? True.\n"
     ]
    }
   ],
   "source": [
    "nombre = 'Julio'\n",
    "ap_paterno \n",
    "\n"
   ]
  }
 ],
 "metadata": {
  "kernelspec": {
   "display_name": "Python 3 (ipykernel)",
   "language": "python",
   "name": "python3"
  },
  "language_info": {
   "codemirror_mode": {
    "name": "ipython",
    "version": 3
   },
   "file_extension": ".py",
   "mimetype": "text/x-python",
   "name": "python",
   "nbconvert_exporter": "python",
   "pygments_lexer": "ipython3",
   "version": "3.11.4"
  }
 },
 "nbformat": 4,
 "nbformat_minor": 5
}
