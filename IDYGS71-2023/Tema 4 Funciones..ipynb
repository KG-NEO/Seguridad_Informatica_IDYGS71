{
 "cells": [
  {
   "cell_type": "markdown",
   "id": "167a9460",
   "metadata": {},
   "source": [
    "# Tema 4 Funciones."
   ]
  },
  {
   "cell_type": "code",
   "execution_count": null,
   "id": "37aaa8fc",
   "metadata": {},
   "outputs": [],
   "source": [
    "# Tabla infita\n",
    "\n",
    "inicio rango\n",
    "final rango\n",
    "\n",
    "inicio tabla\n",
    "final tabla\n",
    "\n",
    "1 x 1 = 1\n",
    "1 x 2 = 2\n",
    "1 x 3 = 3"
   ]
  },
  {
   "cell_type": "code",
   "execution_count": 3,
   "id": "410d7247",
   "metadata": {},
   "outputs": [
    {
     "name": "stdout",
     "output_type": "stream",
     "text": [
      "Tabla del 1\n",
      "1 x 1 = 1\n",
      "1 x 2 = 2\n",
      "1 x 3 = 3\n",
      "\n",
      "Tabla del 2\n",
      "2 x 1 = 2\n",
      "2 x 2 = 4\n",
      "2 x 3 = 6\n",
      "\n",
      "Tabla del 3\n",
      "3 x 1 = 3\n",
      "3 x 2 = 6\n",
      "3 x 3 = 9\n",
      "\n",
      "Tabla del 4\n",
      "4 x 1 = 4\n",
      "4 x 2 = 8\n",
      "4 x 3 = 12\n",
      "\n",
      "Tabla del 5\n",
      "5 x 1 = 5\n",
      "5 x 2 = 10\n",
      "5 x 3 = 15\n",
      "\n"
     ]
    }
   ],
   "source": [
    "for i in range(1,6):\n",
    "    print(f\"Tabla del {i}\")\n",
    "    for j in range(1,4):\n",
    "        print(f\"{i} x {j} = {i*j}\")\n",
    "    print()"
   ]
  },
  {
   "cell_type": "code",
   "execution_count": 4,
   "id": "ba1e21d5",
   "metadata": {},
   "outputs": [
    {
     "name": "stdout",
     "output_type": "stream",
     "text": [
      "Ingresa el rango inicial: 2\n",
      "Ingresa el rango final: 3\n",
      "Ingresa la tabla inicial: 2\n",
      "Ingresa la tabla final: 3\n",
      "Tabla del 2\n",
      "2 x 2 = 4\n",
      "2 x 3 = 6\n",
      "\n",
      "Tabla del 3\n",
      "3 x 2 = 6\n",
      "3 x 3 = 9\n",
      "\n"
     ]
    }
   ],
   "source": [
    "inicio_r = int(input(\"Ingresa el rango inicial: \"))\n",
    "final_r = int(input(\"Ingresa el rango final: \"))\n",
    "inicio_t = int(input(\"Ingresa la tabla inicial: \"))\n",
    "final_t = int(input(\"Ingresa la tabla final: \"))\n",
    "\n",
    "for i in range(inicio_r,final_r + 1):\n",
    "    print(f\"Tabla del {i}\")\n",
    "    for j in range(inicio_t, final_t + 1):\n",
    "        print(f\"{i} x {j} = {i*j}\")\n",
    "    print()"
   ]
  },
  {
   "cell_type": "code",
   "execution_count": null,
   "id": "88bb2525",
   "metadata": {},
   "outputs": [],
   "source": [
    "def tabla_infinita():\n",
    "    inicio_r = int(input(\"Ingresa el rango inicial: \"))\n",
    "    final_r = int(input(\"Ingresa el rango final: \"))\n",
    "    inicio_t = int(input(\"Ingresa la tabla inicial: \"))\n",
    "    final_t = int(input(\"Ingresa la tabla final: \"))\n",
    "\n",
    "    for i in range(inicio_r,final_r + 1):\n",
    "        print(f\"Tabla del {i}\")\n",
    "        for j in range(inicio_t, final_t + 1):\n",
    "            print(f\"{i} x {j} = {i*j}\")\n",
    "        print()"
   ]
  },
  {
   "cell_type": "code",
   "execution_count": 5,
   "id": "35a2ecc8",
   "metadata": {},
   "outputs": [
    {
     "ename": "NameError",
     "evalue": "name 'tabla_infinita' is not defined",
     "output_type": "error",
     "traceback": [
      "\u001b[0;31m---------------------------------------------------------------------------\u001b[0m",
      "\u001b[0;31mNameError\u001b[0m                                 Traceback (most recent call last)",
      "Cell \u001b[0;32mIn[5], line 1\u001b[0m\n\u001b[0;32m----> 1\u001b[0m tabla_infinita()\n",
      "\u001b[0;31mNameError\u001b[0m: name 'tabla_infinita' is not defined"
     ]
    }
   ],
   "source": [
    "tabla_infinita()"
   ]
  },
  {
   "cell_type": "code",
   "execution_count": 3,
   "id": "345c38b6",
   "metadata": {},
   "outputs": [],
   "source": [
    "def suma(a, b):\n",
    "    print(a + b)"
   ]
  },
  {
   "cell_type": "code",
   "execution_count": 4,
   "id": "fc06ff82",
   "metadata": {},
   "outputs": [],
   "source": [
    "def tabla_dos():\n",
    "    inicio_r = int(input(\"Ingresa el rango inicial: \"))\n",
    "    final_r = int(input(\"Ingresa el rango final: \"))\n",
    "    inicio_t = int(input(\"Ingresa la tabla inicial: \"))\n",
    "    final_t = int(input(\"Ingresa la tabla final: \"))\n",
    "\n",
    "    for i in range(inicio_r,final_r + 1):\n",
    "        print(f\"Tabla del {i}\")\n",
    "        for j in range(inicio_t, final_t + 1):\n",
    "            print(f\"{i} x {j} = {i*j}\")\n",
    "        print()"
   ]
  }
 ],
 "metadata": {
  "kernelspec": {
   "display_name": "Python 3 (ipykernel)",
   "language": "python",
   "name": "python3"
  },
  "language_info": {
   "codemirror_mode": {
    "name": "ipython",
    "version": 3
   },
   "file_extension": ".py",
   "mimetype": "text/x-python",
   "name": "python",
   "nbconvert_exporter": "python",
   "pygments_lexer": "ipython3",
   "version": "3.11.4"
  }
 },
 "nbformat": 4,
 "nbformat_minor": 5
}
