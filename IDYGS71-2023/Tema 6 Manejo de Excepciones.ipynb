{
 "cells": [
  {
   "cell_type": "code",
   "execution_count": 3,
   "id": "8cafa85e",
   "metadata": {},
   "outputs": [
    {
     "name": "stdout",
     "output_type": "stream",
     "text": [
      "Introduce un número: 10\n",
      "1.0\n"
     ]
    }
   ],
   "source": [
    "try:\n",
    "    numero = int(input(\"Introduce un número: \"))\n",
    "    resultado = 10 / numero\n",
    "    print(resultado)\n",
    "except ZeroDivisionError:\n",
    "    print(\"No puedes dividir por cero.\")\n",
    "except ValueError:\n",
    "    print(\"Debes ingresar un número válido.\")"
   ]
  },
  {
   "cell_type": "code",
   "execution_count": 9,
   "id": "f20f9d04",
   "metadata": {},
   "outputs": [
    {
     "name": "stdout",
     "output_type": "stream",
     "text": [
      "Introduce un número: 100\n",
      "0.1\n"
     ]
    }
   ],
   "source": [
    "numero = int(input(\"Introduce un número: \"))\n",
    "resultado = 10 / numero\n",
    "\n",
    "if resultado != 0:\n",
    "    print(resultado)\n",
    "elif resultado == 0:\n",
    "    print(\"No puedes dividir por cero.\")\n",
    "else:\n",
    "    print(\"Debes ingresar un número válido.\")"
   ]
  },
  {
   "cell_type": "code",
   "execution_count": 31,
   "id": "f4df1f63",
   "metadata": {},
   "outputs": [],
   "source": [
    "guerreros_z_index ={\"Goku\",\"Vegeta\",\"Gohan\",\"Brouly\",\"Goten\",\"Trunks\"}\n",
    "guerreros_z_key = {\"name\":\"Goku\"}\n"
   ]
  },
  {
   "cell_type": "code",
   "execution_count": 34,
   "id": "c7e57186",
   "metadata": {},
   "outputs": [
    {
     "ename": "KeyError",
     "evalue": "'Vegeta'",
     "output_type": "error",
     "traceback": [
      "\u001b[0;31m---------------------------------------------------------------------------\u001b[0m",
      "\u001b[0;31mKeyError\u001b[0m                                  Traceback (most recent call last)",
      "Cell \u001b[0;32mIn[34], line 7\u001b[0m\n\u001b[1;32m      4\u001b[0m     \u001b[38;5;28;01mexcept\u001b[39;00m \u001b[38;5;167;01mIndexError\u001b[39;00m:\n\u001b[1;32m      5\u001b[0m             \u001b[38;5;28mprint\u001b[39m(\u001b[38;5;124m\"\u001b[39m\u001b[38;5;124mEl index del guerrero no existe\u001b[39m\u001b[38;5;124m\"\u001b[39m)\n\u001b[0;32m----> 7\u001b[0m obtener_guerrero(\u001b[38;5;124m\"\u001b[39m\u001b[38;5;124mVegeta\u001b[39m\u001b[38;5;124m\"\u001b[39m)\n",
      "Cell \u001b[0;32mIn[34], line 3\u001b[0m, in \u001b[0;36mobtener_guerrero\u001b[0;34m(index)\u001b[0m\n\u001b[1;32m      1\u001b[0m \u001b[38;5;28;01mdef\u001b[39;00m \u001b[38;5;21mobtener_guerrero\u001b[39m(index):\n\u001b[1;32m      2\u001b[0m     \u001b[38;5;28;01mtry\u001b[39;00m: \n\u001b[0;32m----> 3\u001b[0m         \u001b[38;5;28mprint\u001b[39m(guerreros_z[index])\n\u001b[1;32m      4\u001b[0m     \u001b[38;5;28;01mexcept\u001b[39;00m \u001b[38;5;167;01mIndexError\u001b[39;00m:\n\u001b[1;32m      5\u001b[0m             \u001b[38;5;28mprint\u001b[39m(\u001b[38;5;124m\"\u001b[39m\u001b[38;5;124mEl index del guerrero no existe\u001b[39m\u001b[38;5;124m\"\u001b[39m)\n",
      "\u001b[0;31mKeyError\u001b[0m: 'Vegeta'"
     ]
    }
   ],
   "source": [
    "def obtener_guerrero(index):\n",
    "    try: \n",
    "        print(guerreros_z[index])\n",
    "    except IndexError:\n",
    "            print(\"El index del guerrero no existe\")\n",
    "            \n",
    "obtener_guerrero(\"Vegeta\")"
   ]
  },
  {
   "cell_type": "code",
   "execution_count": 33,
   "id": "647dbb0b",
   "metadata": {},
   "outputs": [
    {
     "name": "stdout",
     "output_type": "stream",
     "text": [
      "Goku\n"
     ]
    }
   ],
   "source": [
    "def obtener_guerrero_key(clave):\n",
    "    try: \n",
    "        print(guerreros_z[clave])\n",
    "    except Exception as e:\n",
    "            print(f\"Error desconocido {e}\")\n",
    "            \n",
    "obtener_guerrero_key(\"name\")"
   ]
  },
  {
   "cell_type": "code",
   "execution_count": null,
   "id": "8f3fa36c",
   "metadata": {},
   "outputs": [],
   "source": []
  },
  {
   "cell_type": "code",
   "execution_count": null,
   "id": "93fc2636",
   "metadata": {},
   "outputs": [],
   "source": []
  },
  {
   "cell_type": "code",
   "execution_count": null,
   "id": "68f77879",
   "metadata": {},
   "outputs": [],
   "source": []
  }
 ],
 "metadata": {
  "kernelspec": {
   "display_name": "Python 3 (ipykernel)",
   "language": "python",
   "name": "python3"
  },
  "language_info": {
   "codemirror_mode": {
    "name": "ipython",
    "version": 3
   },
   "file_extension": ".py",
   "mimetype": "text/x-python",
   "name": "python",
   "nbconvert_exporter": "python",
   "pygments_lexer": "ipython3",
   "version": "3.11.4"
  }
 },
 "nbformat": 4,
 "nbformat_minor": 5
}
