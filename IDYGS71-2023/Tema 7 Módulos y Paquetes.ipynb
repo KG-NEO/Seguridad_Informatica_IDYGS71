{
 "cells": [
  {
   "cell_type": "code",
   "execution_count": 1,
   "id": "238f8912",
   "metadata": {},
   "outputs": [],
   "source": [
    "import operaciones\n",
    "\n",
    "from mipaquete import modulo1\n",
    "from mipaquete import modulo2\n",
    "from mipaquete import modulo4\n",
    "from mipaquete import modulo5\n",
    "from mipaquete import modulo6\n"
   ]
  },
  {
   "cell_type": "code",
   "execution_count": 9,
   "id": "b5ed9d06",
   "metadata": {},
   "outputs": [
    {
     "name": "stdout",
     "output_type": "stream",
     "text": [
      "8\n"
     ]
    }
   ],
   "source": [
    "resultado = operaciones.suma(5, 3)\n",
    "print(resultado)  # Imprimirá 8"
   ]
  },
  {
   "cell_type": "code",
   "execution_count": 10,
   "id": "76fd82f9",
   "metadata": {},
   "outputs": [
    {
     "name": "stdout",
     "output_type": "stream",
     "text": [
      "2\n"
     ]
    }
   ],
   "source": [
    "resultado = operaciones.resta(5, 3)\n",
    "print(resultado)  # Imprimirá 8"
   ]
  },
  {
   "cell_type": "code",
   "execution_count": 8,
   "id": "060d42ce",
   "metadata": {},
   "outputs": [
    {
     "name": "stdout",
     "output_type": "stream",
     "text": [
      "15\n"
     ]
    }
   ],
   "source": [
    "resultado = operaciones.multiplicacion(5, 3)\n",
    "print(resultado)  # Imprimirá 8"
   ]
  },
  {
   "cell_type": "code",
   "execution_count": 15,
   "id": "d3167c37",
   "metadata": {},
   "outputs": [
    {
     "name": "stdout",
     "output_type": "stream",
     "text": [
      "Hola me quieres? SI o NO: No\n",
      "Ñooo\n"
     ]
    }
   ],
   "source": [
    "modulo1.mequiere()"
   ]
  },
  {
   "cell_type": "code",
   "execution_count": 4,
   "id": "41c89d62",
   "metadata": {},
   "outputs": [
    {
     "name": "stdout",
     "output_type": "stream",
     "text": [
      "Quieres salir conmigo? Si\n",
      "Te la pasaste increible? Si\n",
      "Gracias por una noche magica\n"
     ]
    }
   ],
   "source": [
    "modulo2.salida()"
   ]
  },
  {
   "cell_type": "code",
   "execution_count": 2,
   "id": "2c9b5d5f",
   "metadata": {},
   "outputs": [
    {
     "name": "stdout",
     "output_type": "stream",
     "text": [
      "¡Bienvenido al juego de preguntas!\n",
      "1. ¿Cuál es el lenguaje de programación más popular en la actualidad? Python\n",
      "¡Correcto!\n",
      "2. ¿Cuántos bits hay en un byte? 1000\n",
      "Incorrecto. La respuesta correcta es: 8\n",
      "3. ¿Cuál es la capital de Francia? Paris\n",
      "Incorrecto. La respuesta correcta es: parís\n",
      "Tu puntaje final es: 1 de 3 preguntas.\n"
     ]
    }
   ],
   "source": [
    "modulo4.juego_de_preguntas()"
   ]
  },
  {
   "cell_type": "code",
   "execution_count": 2,
   "id": "aca96a07",
   "metadata": {},
   "outputs": [
    {
     "name": "stdout",
     "output_type": "stream",
     "text": [
      "¡Bienvenido a la UT STORE!\n",
      "Lista de Productos:\n",
      "Iphone 11: $1000.00\n",
      "MacBook Pro 2018: $7000.00\n",
      "Ipad Air 9 Gn: $5000.00\n",
      "Lenovo Tab: $2800.00\n",
      "Ingrese el nombre del producto que desea comprar: Iphone 11\n",
      "Ingrese la cantidad que desea comprar: 2\n",
      "¿Desea seguir comprando? (si/no): si\n",
      "Lista de Productos:\n",
      "Iphone 11: $1000.00\n",
      "MacBook Pro 2018: $7000.00\n",
      "Ipad Air 9 Gn: $5000.00\n",
      "Lenovo Tab: $2800.00\n",
      "Ingrese el nombre del producto que desea comprar: Lenovo Tab\n",
      "Ingrese la cantidad que desea comprar: 1\n",
      "¿Desea seguir comprando? (si/no): no\n",
      "Resumen de la compra:\n",
      "Iphone 11: 2 unidades\n",
      "Lenovo Tab: 1 unidades\n",
      "Total de la compra: $4800.00\n"
     ]
    }
   ],
   "source": [
    "modulo6.venta_de_productos()"
   ]
  }
 ],
 "metadata": {
  "kernelspec": {
   "display_name": "Python 3 (ipykernel)",
   "language": "python",
   "name": "python3"
  },
  "language_info": {
   "codemirror_mode": {
    "name": "ipython",
    "version": 3
   },
   "file_extension": ".py",
   "mimetype": "text/x-python",
   "name": "python",
   "nbconvert_exporter": "python",
   "pygments_lexer": "ipython3",
   "version": "3.11.4"
  }
 },
 "nbformat": 4,
 "nbformat_minor": 5
}
