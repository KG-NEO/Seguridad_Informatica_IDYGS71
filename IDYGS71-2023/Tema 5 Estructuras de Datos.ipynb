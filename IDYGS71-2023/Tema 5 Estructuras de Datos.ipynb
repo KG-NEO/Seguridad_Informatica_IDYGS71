{
 "cells": [
  {
   "cell_type": "code",
   "execution_count": 12,
   "id": "d74e9860",
   "metadata": {},
   "outputs": [],
   "source": [
    "# 1. Listas\n",
    "\n",
    "frutas = [\"manzana\", \"banana\", \"cereza\"]\n",
    "numeros = [1, 2, 3, 4, 5]\n",
    "mixto = [\"texto\", 123, True, 3.14]"
   ]
  },
  {
   "cell_type": "code",
   "execution_count": 13,
   "id": "f044a6c1",
   "metadata": {},
   "outputs": [
    {
     "name": "stdout",
     "output_type": "stream",
     "text": [
      "manzana\n",
      "1\n",
      "2\n",
      "3\n",
      "4\n",
      "5\n"
     ]
    }
   ],
   "source": [
    "# acceso a datos\n",
    "\n",
    "print(frutas[0])\n",
    "\n",
    "for numero in numeros:\n",
    "    print(numero)"
   ]
  },
  {
   "cell_type": "code",
   "execution_count": 14,
   "id": "692031c5",
   "metadata": {},
   "outputs": [
    {
     "name": "stdout",
     "output_type": "stream",
     "text": [
      "['texto', 'Hola mundo', True, 3.14]\n"
     ]
    }
   ],
   "source": [
    "mixto[1] = \"Hola mundo\"\n",
    "print(mixto)"
   ]
  },
  {
   "cell_type": "code",
   "execution_count": 15,
   "id": "baa5d86d",
   "metadata": {},
   "outputs": [
    {
     "data": {
      "text/plain": [
       "'naranja'"
      ]
     },
     "execution_count": 15,
     "metadata": {},
     "output_type": "execute_result"
    }
   ],
   "source": [
    "# Metodos\n",
    "\n",
    "frutas.append(\"naranja\")    # Agrega un elemento al final\n",
    "frutas.remove(\"manzana\")    # Elimina un elemento específico\n",
    "frutas.pop()                # Elimina el último elemento"
   ]
  },
  {
   "cell_type": "code",
   "execution_count": 11,
   "id": "191831fd",
   "metadata": {},
   "outputs": [],
   "source": [
    "# Tuplas\n",
    "\n",
    "colores = (\"rojo\", \"verde\", \"azul\")"
   ]
  },
  {
   "cell_type": "code",
   "execution_count": 13,
   "id": "335f867c",
   "metadata": {},
   "outputs": [
    {
     "name": "stdout",
     "output_type": "stream",
     "text": [
      "verde\n",
      "rojo\n",
      "verde\n",
      "azul\n"
     ]
    }
   ],
   "source": [
    "print(colores[1])\n",
    "\n",
    "for color in colores:\n",
    "    print(color)"
   ]
  },
  {
   "cell_type": "code",
   "execution_count": 15,
   "id": "d049a1c6",
   "metadata": {},
   "outputs": [],
   "source": [
    "# 3. Conjuntos (Sets)\n",
    "\n",
    "animales = {\"gato\", \"perro\", \"pez\"}"
   ]
  },
  {
   "cell_type": "code",
   "execution_count": 16,
   "id": "93e26a83",
   "metadata": {},
   "outputs": [],
   "source": [
    "# MEtodos\n",
    "\n",
    "animales.add(\"pajaro\")  # Agrefar un elemento\n",
    "animales.remove(\"pez\")  # Remover un elemento"
   ]
  },
  {
   "cell_type": "code",
   "execution_count": 17,
   "id": "2e7b60f4",
   "metadata": {},
   "outputs": [
    {
     "name": "stdout",
     "output_type": "stream",
     "text": [
      "perro\n",
      "gato\n",
      "pajaro\n"
     ]
    }
   ],
   "source": [
    "for animal in animales:\n",
    "    print(animal)"
   ]
  },
  {
   "cell_type": "code",
   "execution_count": 17,
   "id": "9ee116f7",
   "metadata": {},
   "outputs": [],
   "source": [
    "# 4. Diccionarios\n",
    "\n",
    "persona = {\n",
    "    \"nombre\" : \"Julio Jose\",\n",
    "    \"ap_paterno\": \"Flores\",\n",
    "    \"ap_materno\" : \"Alamilla\",\n",
    "    \"edad\" : 26,\n",
    "    \"ciudad\" : \"Merida\",\n",
    "    \"altura\" : 1.73,\n",
    "    \"peso\" : 90\n",
    "}"
   ]
  },
  {
   "cell_type": "code",
   "execution_count": 16,
   "id": "6eef05fa",
   "metadata": {
    "scrolled": true
   },
   "outputs": [
    {
     "ename": "NameError",
     "evalue": "name 'persona' is not defined",
     "output_type": "error",
     "traceback": [
      "\u001b[0;31m---------------------------------------------------------------------------\u001b[0m",
      "\u001b[0;31mNameError\u001b[0m                                 Traceback (most recent call last)",
      "Cell \u001b[0;32mIn[16], line 17\u001b[0m\n\u001b[1;32m     13\u001b[0m     \u001b[38;5;28;01melse\u001b[39;00m:\n\u001b[1;32m     14\u001b[0m         \u001b[38;5;28mprint\u001b[39m(\u001b[38;5;124mf\u001b[39m\u001b[38;5;124m\"\u001b[39m\u001b[38;5;132;01m{\u001b[39;00mnombre\u001b[38;5;132;01m}\u001b[39;00m\u001b[38;5;124m Tienes Obesidad: IMC \u001b[39m\u001b[38;5;132;01m{\u001b[39;00m\u001b[38;5;28mround\u001b[39m(imc_p,\u001b[38;5;241m1\u001b[39m)\u001b[38;5;132;01m}\u001b[39;00m\u001b[38;5;124m visitar al doctor.\u001b[39m\u001b[38;5;124m\"\u001b[39m)\n\u001b[0;32m---> 17\u001b[0m peso_p \u001b[38;5;241m=\u001b[39m persona[\u001b[38;5;124m\"\u001b[39m\u001b[38;5;124mpeso\u001b[39m\u001b[38;5;124m\"\u001b[39m]\n\u001b[1;32m     18\u001b[0m altura_p \u001b[38;5;241m=\u001b[39m persona[\u001b[38;5;124m\"\u001b[39m\u001b[38;5;124maltura\u001b[39m\u001b[38;5;124m\"\u001b[39m]\n\u001b[1;32m     19\u001b[0m nombre_p \u001b[38;5;241m=\u001b[39m persona[\u001b[38;5;124m\"\u001b[39m\u001b[38;5;124mnombre\u001b[39m\u001b[38;5;124m\"\u001b[39m]\n",
      "\u001b[0;31mNameError\u001b[0m: name 'persona' is not defined"
     ]
    }
   ],
   "source": [
    "# Funcion que me determine el IMC, y que me diga\n",
    "# Nivle de peso\n",
    "\n",
    "def imc(peso,altura,nombre):\n",
    "    imc = peso/ altura ** 2\n",
    "    \n",
    "    if imc_p < 18.5:\n",
    "        print(f\"{nombre} Tienes bajo peso: IMC {round(imc_p,1)} visitar al doctor.\")\n",
    "    elif imc_p > 18.5 and imc_p < 24.9:\n",
    "        print(f\"{nombre} Tienes peso ideal: IMC {round(imc_p,1)}\")\n",
    "    elif imc_p > 25 and imc_p < 29.9:\n",
    "        print(f\"{nombre} Tienes Sobrepeso: IMC {round(imc_p,1)}\")\n",
    "    else:\n",
    "        print(f\"{nombre} Tienes Obesidad: IMC {round(imc_p,1)} visitar al doctor.\")\n",
    "\n",
    "\n",
    "peso_p = persona[\"peso\"]\n",
    "altura_p = persona[\"altura\"]\n",
    "nombre_p = persona[\"nombre\"]\n",
    "\n",
    "\n",
    "imc(peso_p,altura_p,nombre_p)\n"
   ]
  },
  {
   "cell_type": "code",
   "execution_count": 7,
   "id": "c70f79b5",
   "metadata": {},
   "outputs": [
    {
     "ename": "NameError",
     "evalue": "name 'persona' is not defined",
     "output_type": "error",
     "traceback": [
      "\u001b[0;31m---------------------------------------------------------------------------\u001b[0m",
      "\u001b[0;31mNameError\u001b[0m                                 Traceback (most recent call last)",
      "Cell \u001b[0;32mIn[7], line 17\u001b[0m\n\u001b[1;32m     13\u001b[0m             \u001b[38;5;28mprint\u001b[39m(\u001b[38;5;124mf\u001b[39m\u001b[38;5;124m\"\u001b[39m\u001b[38;5;132;01m{\u001b[39;00mnombre\u001b[38;5;132;01m}\u001b[39;00m\u001b[38;5;124m estas \u001b[39m\u001b[38;5;132;01m{\u001b[39;00mdescripcion\u001b[38;5;132;01m}\u001b[39;00m\u001b[38;5;124m: IMC \u001b[39m\u001b[38;5;132;01m{\u001b[39;00m\u001b[38;5;28mround\u001b[39m(imc_p,\u001b[38;5;250m \u001b[39m\u001b[38;5;241m1\u001b[39m)\u001b[38;5;132;01m}\u001b[39;00m\u001b[38;5;124m\"\u001b[39m)\n\u001b[1;32m     14\u001b[0m             \u001b[38;5;28;01mbreak\u001b[39;00m\n\u001b[0;32m---> 17\u001b[0m peso_p \u001b[38;5;241m=\u001b[39m persona(\u001b[38;5;124m\"\u001b[39m\u001b[38;5;124mpeso\u001b[39m\u001b[38;5;124m\"\u001b[39m)\n\u001b[1;32m     18\u001b[0m altura_p \u001b[38;5;241m=\u001b[39m persona[\u001b[38;5;124m\"\u001b[39m\u001b[38;5;124maltura\u001b[39m\u001b[38;5;124m\"\u001b[39m]\n\u001b[1;32m     19\u001b[0m nombre_p \u001b[38;5;241m=\u001b[39m persona[\u001b[38;5;124m\"\u001b[39m\u001b[38;5;124mnombre\u001b[39m\u001b[38;5;124m\"\u001b[39m]\n",
      "\u001b[0;31mNameError\u001b[0m: name 'persona' is not defined"
     ]
    }
   ],
   "source": [
    "def imc(peso, altura, nombre):\n",
    "    imc_p = peso / altura ** 2\n",
    "    \n",
    "    categorias = [\n",
    "        (18.5,\"Bajo peso\"),\n",
    "        (24.9,\"Normal\"),\n",
    "        (29.9,\"Sobrepeso\"),\n",
    "        (float('inf'),\"obesidad\")\n",
    "    ]\n",
    "    \n",
    "    for limite, descripcion in categorias:\n",
    "        if imc_p <= limite:\n",
    "            print(f\"{nombre} estas {descripcion}: IMC {round(imc_p, 1)}\")\n",
    "            break\n",
    "       \n",
    "    \n",
    "peso_p = persona(\"peso\")\n",
    "altura_p = persona[\"altura\"]\n",
    "nombre_p = persona[\"nombre\"]\n",
    "\n",
    "imc(peso_p, altura_p, nombre_)"
   ]
  },
  {
   "cell_type": "code",
   "execution_count": null,
   "id": "e83a9cd1",
   "metadata": {},
   "outputs": [],
   "source": []
  },
  {
   "cell_type": "code",
   "execution_count": 9,
   "id": "8407c0bc",
   "metadata": {},
   "outputs": [
    {
     "ename": "NameError",
     "evalue": "name 'persona' is not defined",
     "output_type": "error",
     "traceback": [
      "\u001b[0;31m---------------------------------------------------------------------------\u001b[0m",
      "\u001b[0;31mNameError\u001b[0m                                 Traceback (most recent call last)",
      "Cell \u001b[0;32mIn[9], line 1\u001b[0m\n\u001b[0;32m----> 1\u001b[0m \u001b[38;5;28mprint\u001b[39m(persona[\u001b[38;5;124m\"\u001b[39m\u001b[38;5;124maltura\u001b[39m\u001b[38;5;124m\"\u001b[39m])\n",
      "\u001b[0;31mNameError\u001b[0m: name 'persona' is not defined"
     ]
    }
   ],
   "source": [
    "print(persona[\"altura\"])"
   ]
  },
  {
   "cell_type": "code",
   "execution_count": 10,
   "id": "08816511",
   "metadata": {},
   "outputs": [
    {
     "ename": "NameError",
     "evalue": "name 'persona' is not defined",
     "output_type": "error",
     "traceback": [
      "\u001b[0;31m---------------------------------------------------------------------------\u001b[0m",
      "\u001b[0;31mNameError\u001b[0m                                 Traceback (most recent call last)",
      "Cell \u001b[0;32mIn[10], line 1\u001b[0m\n\u001b[0;32m----> 1\u001b[0m \u001b[38;5;28;01mfor\u001b[39;00m k \u001b[38;5;129;01min\u001b[39;00m persona:\n\u001b[1;32m      2\u001b[0m     \u001b[38;5;28mprint\u001b[39m(k)\n",
      "\u001b[0;31mNameError\u001b[0m: name 'persona' is not defined"
     ]
    }
   ],
   "source": [
    "for k in persona:\n",
    "    print(k)"
   ]
  },
  {
   "cell_type": "code",
   "execution_count": 11,
   "id": "81a29c04",
   "metadata": {},
   "outputs": [
    {
     "ename": "NameError",
     "evalue": "name 'persona' is not defined",
     "output_type": "error",
     "traceback": [
      "\u001b[0;31m---------------------------------------------------------------------------\u001b[0m",
      "\u001b[0;31mNameError\u001b[0m                                 Traceback (most recent call last)",
      "Cell \u001b[0;32mIn[11], line 1\u001b[0m\n\u001b[0;32m----> 1\u001b[0m \u001b[38;5;28;01mfor\u001b[39;00m v \u001b[38;5;129;01min\u001b[39;00m persona\u001b[38;5;241m.\u001b[39mvalues():\n\u001b[1;32m      2\u001b[0m     \u001b[38;5;28mprint\u001b[39m(v)\n",
      "\u001b[0;31mNameError\u001b[0m: name 'persona' is not defined"
     ]
    }
   ],
   "source": [
    "for v in persona.values():\n",
    "    print(v)"
   ]
  },
  {
   "cell_type": "code",
   "execution_count": 25,
   "id": "6bdf7324",
   "metadata": {},
   "outputs": [
    {
     "name": "stdout",
     "output_type": "stream",
     "text": [
      "la clave es: nombre y el valor es juan\n",
      "la clave es: edad y el valor es 26\n",
      "la clave es: ciudad y el valor es España\n"
     ]
    }
   ],
   "source": [
    "for k,v in persona.items():\n",
    "    print(f\"la clave es: {k} y el valor es {v}\")"
   ]
  },
  {
   "cell_type": "code",
   "execution_count": null,
   "id": "d66bd54a",
   "metadata": {},
   "outputs": [],
   "source": [
    "# Funcion que determine el IMC, y que me diga\n",
    "# Nivel de peso: Nombre, peso, altura"
   ]
  },
  {
   "cell_type": "code",
   "execution_count": 25,
   "id": "1cfacf8f",
   "metadata": {},
   "outputs": [
    {
     "ename": "IndentationError",
     "evalue": "expected an indented block after function definition on line 8 (267179562.py, line 9)",
     "output_type": "error",
     "traceback": [
      "\u001b[0;36m  Cell \u001b[0;32mIn[25], line 9\u001b[0;36m\u001b[0m\n\u001b[0;31m    if imc < 18.5:\u001b[0m\n\u001b[0m    ^\u001b[0m\n\u001b[0;31mIndentationError\u001b[0m\u001b[0;31m:\u001b[0m expected an indented block after function definition on line 8\n"
     ]
    }
   ],
   "source": [
    "def funcion():\n",
    "    nombre = input(\"Cual es su nombre: \")\n",
    "    altura = float(input(\"Su altura por favor: \"))\n",
    "    peso = float(input(\"Ingres su peso corporal en kilogramos: \"))\n",
    "    IMC = peso / alt**2\n",
    "    return imc\n",
    "    \n",
    "    def categorizar_imc(imc):\n",
    "    if imc < 18.5:\n",
    "        \n",
    "       \n",
    "    return \"Bajo peso\"\n",
    "    elif 18.5 <= imc < 25:\n",
    "        return \"Peso normal\"\n",
    "    elif 25 <= imc < 30:\n",
    "        return \"Sobrepeso\"\n",
    "    else:\n",
    "        return \"Obesidad\""
   ]
  },
  {
   "cell_type": "code",
   "execution_count": 6,
   "id": "4ae0073d",
   "metadata": {},
   "outputs": [
    {
     "name": "stdout",
     "output_type": "stream",
     "text": [
      "Calculadora de Índice de Masa Corporal (IMC)\n",
      "Ingres tu nombre: Julio Flores\n",
      "Ingrese su peso en kilogramos: 96\n",
      "Ingrese su altura en metros: 1.73\n",
      "Su IMC es: 32.08\n",
      "Usted tiene una IMC de: Obesidad\n"
     ]
    }
   ],
   "source": [
    "def calculadora_imc():\n",
    "    print(\"Calculadora de Índice de Masa Corporal (IMC)\")\n",
    "    nombre = input(\"Ingres tu nombre: \")\n",
    "    peso = float(input(\"Ingrese su peso en kilogramos: \"))\n",
    "    altura = float(input(\"Ingrese su altura en metros: \"))\n",
    "\n",
    "    imc = calcular_imc(peso, altura)\n",
    "    categoria = categorizar_imc(imc)\n",
    "\n",
    "    print(f\"Su IMC es: {imc:.2f}\")\n",
    "    print(f\"Usted tiene una IMC de: {categoria}\")\n",
    "\n",
    "calculadora_imc()\n",
    "\n",
    "def calcular_imc(peso, altura):\n",
    "    if altura == 0:\n",
    "        return \"Error: La altura no puede ser cero.\"\n",
    "    imc = peso / (altura ** 2)\n",
    "    return imc\n",
    "\n",
    "def categorizar_imc(imc):\n",
    "    if imc < 18.5:\n",
    "        return \"Bajo peso\"\n",
    "    elif 18.5 <= imc < 25:\n",
    "        return \"Peso normal\"\n",
    "    elif 25 <= imc < 30:\n",
    "        return \"Sobrepeso\"\n",
    "    else:\n",
    "        return \"Obesidad\"\n",
    "\n"
   ]
  }
 ],
 "metadata": {
  "kernelspec": {
   "display_name": "Python 3 (ipykernel)",
   "language": "python",
   "name": "python3"
  },
  "language_info": {
   "codemirror_mode": {
    "name": "ipython",
    "version": 3
   },
   "file_extension": ".py",
   "mimetype": "text/x-python",
   "name": "python",
   "nbconvert_exporter": "python",
   "pygments_lexer": "ipython3",
   "version": "3.11.4"
  }
 },
 "nbformat": 4,
 "nbformat_minor": 5
}
