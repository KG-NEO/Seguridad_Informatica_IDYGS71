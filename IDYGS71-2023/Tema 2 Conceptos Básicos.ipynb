{
 "cells": [
  {
   "cell_type": "markdown",
   "id": "aeba1091",
   "metadata": {},
   "source": [
    "# 1. Variables y Tipos de datos"
   ]
  },
  {
   "cell_type": "code",
   "execution_count": 6,
   "id": "41fa4798",
   "metadata": {},
   "outputs": [
    {
     "name": "stdout",
     "output_type": "stream",
     "text": [
      "<class 'str'>\n",
      "<class 'str'>\n",
      "<class 'str'>\n",
      "<class 'int'>\n",
      "<class 'float'>\n",
      "<class 'bool'>\n",
      "<class 'bool'>\n"
     ]
    }
   ],
   "source": [
    "nombre = 'julio'\n",
    "ap_paterno = \"Flores\"\n",
    "ap_materno = \"\"\"Alamilla\"\"\"\n",
    "\n",
    "nombre_completo = f\"{nombre} {ap_paterno} {ap_materno}\"\n",
    "\n",
    "edad = 26\n",
    "altura = 1.72\n",
    "es_estudiante = True\n",
    "es_docente = False\n",
    "\n",
    "print(type(nombre))\n",
    "print(type(ap_paterno))\n",
    "print(type(ap_materno))\n",
    "print(type(edad))\n",
    "print(type(altura))\n",
    "print(type(es_estudiante))\n",
    "print(type(es_docente))"
   ]
  },
  {
   "cell_type": "code",
   "execution_count": 7,
   "id": "8285ff43",
   "metadata": {},
   "outputs": [],
   "source": [
    "a = 10\n",
    "b = 3\n",
    "\n",
    "suma = a + b\n",
    "resta = a - b\n",
    "multiplicacion = a * b\n",
    "division = a / b\n",
    "modulo = a % b  # Retorna el residuo de la división"
   ]
  },
  {
   "cell_type": "code",
   "execution_count": 8,
   "id": "b8a2a305",
   "metadata": {},
   "outputs": [
    {
     "data": {
      "text/plain": [
       "False"
      ]
     },
     "execution_count": 8,
     "metadata": {},
     "output_type": "execute_result"
    }
   ],
   "source": [
    "a == b  # Igual a\n",
    "a != b  # Diferente de\n",
    "a > b   # Mayor que\n",
    "a < b   # Menor que\n",
    "a >= b  # Mayor o igual que\n",
    "a <= b  # Menor o igual que"
   ]
  },
  {
   "cell_type": "code",
   "execution_count": 9,
   "id": "72164a80",
   "metadata": {},
   "outputs": [],
   "source": [
    "x = True\n",
    "y = False\n",
    "\n",
    "resultado_and = x and y  # True si x e y son verdaderos\n",
    "resultado_or = x or y   # True si al menos uno es verdadero\n",
    "resultado_not = not x   # True si x es falso, y viceversa"
   ]
  },
  {
   "cell_type": "code",
   "execution_count": null,
   "id": "bbf54869",
   "metadata": {},
   "outputs": [],
   "source": [
    "# 3. Entrada y Salida estándar"
   ]
  },
  {
   "cell_type": "code",
   "execution_count": 14,
   "id": "12698581",
   "metadata": {},
   "outputs": [
    {
     "name": "stdout",
     "output_type": "stream",
     "text": [
      "Ingresa el numero uno10\n",
      "Ingresa el numero dos2\n",
      "102\n"
     ]
    }
   ],
   "source": [
    "numero_uno = input(\"Ingresa el numero uno\")\n",
    "numero_dos = input(\"Ingresa el numero dos\")\n",
    "\n",
    "suma = numero_uno + numero_dos\n",
    "\n",
    "print(suma)"
   ]
  },
  {
   "cell_type": "code",
   "execution_count": 1,
   "id": "4db3b9c8",
   "metadata": {},
   "outputs": [
    {
     "name": "stdout",
     "output_type": "stream",
     "text": [
      "Mi nombre es: Julio\n",
      "Mi apellido es paterno: Flores\n",
      "Mi apellido es materno: Alamilla\n",
      "Tengo la edad de : 26\n",
      "Mi altura es de : 1.21\n",
      " y, ¿Soy estudiante?: si\n",
      "Hola me llamo Julio!, Mis apellidos son Flores Alamilla, mi edad es de 26 años, mi altura es de 1.21 y ¿Soy estudiante? True.\n"
     ]
    }
   ],
   "source": [
    "nombre = input(\"Mi nombre es: \")\n",
    "ap_paterno = input(\"Mi apellido es paterno: \")\n",
    "ap_materno = input(\"Mi apellido es materno: \")\n",
    "edad = input(\"Tengo la edad de : \")\n",
    "altura = input(\"Mi altura es de : \")\n",
    "es_estu = bool(input(\" y, ¿Soy estudiante?: \"))\n",
    "\n",
    "print(f\"Hola me llamo {nombre}!, Mis apellidos son {ap_paterno} {ap_materno}, mi edad es de {edad} años, mi altura es de {altura} y ¿Soy estudiante? {es_estu}.\")"
   ]
  }
 ],
 "metadata": {
  "kernelspec": {
   "display_name": "Python 3 (ipykernel)",
   "language": "python",
   "name": "python3"
  },
  "language_info": {
   "codemirror_mode": {
    "name": "ipython",
    "version": 3
   },
   "file_extension": ".py",
   "mimetype": "text/x-python",
   "name": "python",
   "nbconvert_exporter": "python",
   "pygments_lexer": "ipython3",
   "version": "3.11.4"
  }
 },
 "nbformat": 4,
 "nbformat_minor": 5
}
