{
 "cells": [
  {
   "cell_type": "code",
   "execution_count": null,
   "id": "79ef4338",
   "metadata": {},
   "outputs": [],
   "source": [
    "Los modos son:\n",
    "\n",
    "\"r\": Lectura (por defecto).\n",
    "\"w\": Escritura (Sobrescribe el archivo si ya existe).\n",
    "\"a\": Añadir (Agregar contenido al final del archivo si ya existe).\n",
    "\"b\": Modo binario (Se utiliza junto con otros modos, como \"rb\" o \"wb\")."
   ]
  },
  {
   "cell_type": "code",
   "execution_count": 1,
   "id": "fc6e989d",
   "metadata": {},
   "outputs": [
    {
     "name": "stdout",
     "output_type": "stream",
     "text": [
      "Hola\n",
      "Mundo\n"
     ]
    }
   ],
   "source": [
    "archivo = open(\"hola.txt\", \"r\")\n",
    "\n",
    "resulatdo = archivo.read()\n",
    "\n",
    "print(resulatdo)"
   ]
  },
  {
   "cell_type": "code",
   "execution_count": 2,
   "id": "f8147d0e",
   "metadata": {},
   "outputs": [],
   "source": [
    "tareas = [\"Comprar leche\", \"Estudiar Python\", \"Hacer ejercicio\"]\n",
    "\n",
    "with open(\"tareas.txt\", \"a\") as archivo:\n",
    "    for tarea in tareas:\n",
    "        archivo.write(tarea + \"\\n\")"
   ]
  },
  {
   "cell_type": "code",
   "execution_count": 3,
   "id": "3494b85e",
   "metadata": {},
   "outputs": [
    {
     "name": "stdout",
     "output_type": "stream",
     "text": [
      "Comprar leche\n",
      "Estudiar Python\n",
      "Hacer ejercicio\n",
      "\n"
     ]
    }
   ],
   "source": [
    "archivo = open(\"tareas.txt\", \"r\")\n",
    "\n",
    "resulatdo = archivo.read()\n",
    "\n",
    "print(resulatdo)"
   ]
  },
  {
   "cell_type": "code",
   "execution_count": 1,
   "id": "c3f19087",
   "metadata": {},
   "outputs": [
    {
     "ename": "FileNotFoundError",
     "evalue": "[Errno 2] No such file or directory: 'HOLA MUNDO.doc'",
     "output_type": "error",
     "traceback": [
      "\u001b[0;31m---------------------------------------------------------------------------\u001b[0m",
      "\u001b[0;31mFileNotFoundError\u001b[0m                         Traceback (most recent call last)",
      "Cell \u001b[0;32mIn[1], line 1\u001b[0m\n\u001b[0;32m----> 1\u001b[0m archivo \u001b[38;5;241m=\u001b[39m \u001b[38;5;28mopen\u001b[39m(\u001b[38;5;124m\"\u001b[39m\u001b[38;5;124mHOLA MUNDO.doc\u001b[39m\u001b[38;5;124m\"\u001b[39m, \u001b[38;5;124m\"\u001b[39m\u001b[38;5;124mr\u001b[39m\u001b[38;5;124m\"\u001b[39m)\n\u001b[1;32m      3\u001b[0m resulatdo \u001b[38;5;241m=\u001b[39m archivo\u001b[38;5;241m.\u001b[39mread()\n\u001b[1;32m      5\u001b[0m \u001b[38;5;28mprint\u001b[39m(resulatdo)\n",
      "File \u001b[0;32m/Applications/anaconda3/lib/python3.11/site-packages/IPython/core/interactiveshell.py:284\u001b[0m, in \u001b[0;36m_modified_open\u001b[0;34m(file, *args, **kwargs)\u001b[0m\n\u001b[1;32m    277\u001b[0m \u001b[38;5;28;01mif\u001b[39;00m file \u001b[38;5;129;01min\u001b[39;00m {\u001b[38;5;241m0\u001b[39m, \u001b[38;5;241m1\u001b[39m, \u001b[38;5;241m2\u001b[39m}:\n\u001b[1;32m    278\u001b[0m     \u001b[38;5;28;01mraise\u001b[39;00m \u001b[38;5;167;01mValueError\u001b[39;00m(\n\u001b[1;32m    279\u001b[0m         \u001b[38;5;124mf\u001b[39m\u001b[38;5;124m\"\u001b[39m\u001b[38;5;124mIPython won\u001b[39m\u001b[38;5;124m'\u001b[39m\u001b[38;5;124mt let you open fd=\u001b[39m\u001b[38;5;132;01m{\u001b[39;00mfile\u001b[38;5;132;01m}\u001b[39;00m\u001b[38;5;124m by default \u001b[39m\u001b[38;5;124m\"\u001b[39m\n\u001b[1;32m    280\u001b[0m         \u001b[38;5;124m\"\u001b[39m\u001b[38;5;124mas it is likely to crash IPython. If you know what you are doing, \u001b[39m\u001b[38;5;124m\"\u001b[39m\n\u001b[1;32m    281\u001b[0m         \u001b[38;5;124m\"\u001b[39m\u001b[38;5;124myou can use builtins\u001b[39m\u001b[38;5;124m'\u001b[39m\u001b[38;5;124m open.\u001b[39m\u001b[38;5;124m\"\u001b[39m\n\u001b[1;32m    282\u001b[0m     )\n\u001b[0;32m--> 284\u001b[0m \u001b[38;5;28;01mreturn\u001b[39;00m io_open(file, \u001b[38;5;241m*\u001b[39margs, \u001b[38;5;241m*\u001b[39m\u001b[38;5;241m*\u001b[39mkwargs)\n",
      "\u001b[0;31mFileNotFoundError\u001b[0m: [Errno 2] No such file or directory: 'HOLA MUNDO.doc'"
     ]
    }
   ],
   "source": [
    "archivo = open(\"HOLA MUNDO.doc\", \"r\")\n",
    "\n",
    "resulatdo = archivo.read()\n",
    "\n",
    "print(resulatdo)"
   ]
  },
  {
   "cell_type": "code",
   "execution_count": 1,
   "id": "65ac5f4b",
   "metadata": {},
   "outputs": [
    {
     "name": "stdout",
     "output_type": "stream",
     "text": [
      "Collecting PyPDF2\n",
      "  Downloading pypdf2-3.0.1-py3-none-any.whl (232 kB)\n",
      "\u001b[2K     \u001b[90m━━━━━━━━━━━━━━━━━━━━━━━━━━━━━━━━━━━━━\u001b[0m \u001b[32m232.6/232.6 kB\u001b[0m \u001b[31m804.7 kB/s\u001b[0m eta \u001b[36m0:00:00\u001b[0ma \u001b[36m0:00:01\u001b[0m\n",
      "\u001b[?25hInstalling collected packages: PyPDF2\n",
      "Successfully installed PyPDF2-3.0.1\n",
      "Note: you may need to restart the kernel to use updated packages.\n"
     ]
    }
   ],
   "source": [
    "pip install PyPDF2"
   ]
  },
  {
   "cell_type": "code",
   "execution_count": 2,
   "id": "f9ed3c05",
   "metadata": {},
   "outputs": [
    {
     "name": "stdout",
     "output_type": "stream",
     "text": [
      "Requirement already satisfied: pandas in /Applications/anaconda3/lib/python3.11/site-packages (1.5.3)\n",
      "Requirement already satisfied: python-dateutil>=2.8.1 in /Applications/anaconda3/lib/python3.11/site-packages (from pandas) (2.8.2)\n",
      "Requirement already satisfied: pytz>=2020.1 in /Applications/anaconda3/lib/python3.11/site-packages (from pandas) (2022.7)\n",
      "Requirement already satisfied: numpy>=1.21.0 in /Applications/anaconda3/lib/python3.11/site-packages (from pandas) (1.24.3)\n",
      "Requirement already satisfied: six>=1.5 in /Applications/anaconda3/lib/python3.11/site-packages (from python-dateutil>=2.8.1->pandas) (1.16.0)\n",
      "Note: you may need to restart the kernel to use updated packages.\n"
     ]
    }
   ],
   "source": [
    "pip install pandas"
   ]
  },
  {
   "cell_type": "code",
   "execution_count": 3,
   "id": "285834ca",
   "metadata": {},
   "outputs": [
    {
     "name": "stdout",
     "output_type": "stream",
     "text": [
      "Collecting python-docx\n",
      "  Obtaining dependency information for python-docx from https://files.pythonhosted.org/packages/5f/d8/6948f7ac00edf74bfa52b3c5e3073df20284bec1db466d13e668fe991707/python_docx-1.1.0-py3-none-any.whl.metadata\n",
      "  Downloading python_docx-1.1.0-py3-none-any.whl.metadata (2.0 kB)\n",
      "Requirement already satisfied: lxml>=3.1.0 in /Applications/anaconda3/lib/python3.11/site-packages (from python-docx) (4.9.2)\n",
      "Requirement already satisfied: typing-extensions in /Applications/anaconda3/lib/python3.11/site-packages (from python-docx) (4.7.1)\n",
      "Downloading python_docx-1.1.0-py3-none-any.whl (239 kB)\n",
      "\u001b[2K   \u001b[90m━━━━━━━━━━━━━━━━━━━━━━━━━━━━━━━━━━━━━━━━\u001b[0m \u001b[32m239.6/239.6 kB\u001b[0m \u001b[31m1.3 MB/s\u001b[0m eta \u001b[36m0:00:00\u001b[0mta \u001b[36m0:00:01\u001b[0m\n",
      "\u001b[?25hInstalling collected packages: python-docx\n",
      "Successfully installed python-docx-1.1.0\n",
      "Note: you may need to restart the kernel to use updated packages.\n"
     ]
    }
   ],
   "source": [
    "pip install python-docx"
   ]
  },
  {
   "cell_type": "code",
   "execution_count": 1,
   "id": "3580989f",
   "metadata": {},
   "outputs": [
    {
     "name": "stdout",
     "output_type": "stream",
     "text": [
      "   Unnamed: 0 Costo total del Proyecto Web Unnamed: 2  Unnamed: 3  \\\n",
      "0         NaN                        Total        NaN         NaN   \n",
      "1         NaN                         9300        NaN         NaN   \n",
      "2         NaN                 Proyecto Web      Costo         NaN   \n",
      "3         NaN                      Hosting       2000         NaN   \n",
      "4         NaN                      Dominio        300         NaN   \n",
      "\n",
      "                                          Unnamed: 4  \n",
      "0                                                NaN  \n",
      "1                                                NaN  \n",
      "2                                                NaN  \n",
      "3  Seguridad SSL, alojamiento para el proyecto, c...  \n",
      "4  Dominio del sitio web ejemplo: https://republi...  \n"
     ]
    },
    {
     "name": "stderr",
     "output_type": "stream",
     "text": [
      "/Applications/anaconda3/lib/python3.11/site-packages/openpyxl/worksheet/header_footer.py:48: UserWarning: Cannot parse header or footer so it will be ignored\n",
      "  warn(\"\"\"Cannot parse header or footer so it will be ignored\"\"\")\n"
     ]
    }
   ],
   "source": [
    "import pandas as pd\n",
    "\n",
    "# Lee un archivo Excel\n",
    "df = pd.read_excel('Costo Proyecto.xlsx')\n",
    "\n",
    "# Muestra los primeros 5 registros del DataFrame\n",
    "print(df.head())"
   ]
  },
  {
   "cell_type": "code",
   "execution_count": 3,
   "id": "cb682555",
   "metadata": {},
   "outputs": [
    {
     "name": "stdout",
     "output_type": "stream",
     "text": [
      "HOLA MUNDO, COMO ESTAN?\n"
     ]
    }
   ],
   "source": [
    "from docx import Document\n",
    "\n",
    "# Abre el archivo Word\n",
    "doc = Document('HOLA MUNDO.docx')\n",
    "\n",
    "# Recorre el contenido del documento\n",
    "for paragraph in doc.paragraphs:\n",
    "    print(paragraph.text)"
   ]
  },
  {
   "cell_type": "code",
   "execution_count": 2,
   "id": "105fd857",
   "metadata": {},
   "outputs": [
    {
     "name": "stdout",
     "output_type": "stream",
     "text": [
      "Contenido de la página 1:\n",
      "Fecha:         /      /          .      Grupo: _______   Grado: _______  \n",
      "Nombre completo: _______________________________ _______  \n",
      "EXAMEN:  \n",
      "Examen de Tecnología Informática, Opción múltiple, encierra o selecciona la \n",
      "respuesta correcta:  (Cada pregunta vale 5 puntos, valor del examen 30%).  \n",
      " \n",
      "1. Como se llama el componente que le pasa energía a la computadora:  \n",
      " \n",
      "A) Disco Duro                    B) Gabinete                           C) Fuente de Poder  \n",
      " \n",
      "2. Soy el componente en donde puedes ver  lo que haces como ver videos:  \n",
      " \n",
      "A) Proyector                       B) Gabinete                          C) Monitor  \n",
      " \n",
      "3. Es el cerebro de la computadora al igual es un componente:  \n",
      " \n",
      "A) Procesador                    B) Monitor                            C) Rat ón \n",
      " \n",
      "4. Como se llama el componente que almacena los datos temporales en la \n",
      "caché:  \n",
      " \n",
      "A) Procesador                    B) Memoria RAM                 C) Fuente de Poder  \n",
      " \n",
      "5. Somos los siguientes componentes teclado, ratón, scanner a que tipo de \n",
      "periférico pertenezco:  \n",
      " \n",
      "A) Salida                        B) Entrada y Salida                     C) Entrada  \n",
      " \n",
      "6. Somos los siguientes componentes Monitor, impresora, bocina a que tipo \n",
      "de periférico pertenezco:  \n",
      " \n",
      "A) Salida                        B) Entrada y Salida                     C) Entrada  \n",
      " \n",
      "Dibuja un meme en la parte de atrás para un +1 extra, si me rio te lo doy.  \n"
     ]
    }
   ],
   "source": [
    "import PyPDF2\n",
    "\n",
    "# Abre el archivo PDF en modo de lectura binaria\n",
    "with open('Examen 2E.pdf', 'rb') as pdf_file:\n",
    "    # Crea un objeto PdfReader para el archivo PDF\n",
    "    pdf_reader = PyPDF2.PdfReader(pdf_file)\n",
    "\n",
    "    # Obtiene el número de páginas en el archivo PDF\n",
    "    num_pages = len(pdf_reader.pages)\n",
    "\n",
    "    # Itera a través de cada página y extrae el texto\n",
    "    for page_num in range(num_pages):\n",
    "        page = pdf_reader.pages[page_num]\n",
    "        text = page.extract_text()\n",
    "        print(f\"Contenido de la página {page_num + 1}:\\n{text}\")"
   ]
  }
 ],
 "metadata": {
  "kernelspec": {
   "display_name": "Python 3 (ipykernel)",
   "language": "python",
   "name": "python3"
  },
  "language_info": {
   "codemirror_mode": {
    "name": "ipython",
    "version": 3
   },
   "file_extension": ".py",
   "mimetype": "text/x-python",
   "name": "python",
   "nbconvert_exporter": "python",
   "pygments_lexer": "ipython3",
   "version": "3.11.4"
  }
 },
 "nbformat": 4,
 "nbformat_minor": 5
}
